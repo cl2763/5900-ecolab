{
 "cells": [
  {
   "cell_type": "code",
   "execution_count": 2,
   "metadata": {},
   "outputs": [],
   "source": [
    "import ingestion_dashboard\n",
    "import ingestion_enforce_reports\n",
    "import ingestion_483s\n",
    "import os"
   ]
  },
  {
   "cell_type": "code",
   "execution_count": 3,
   "metadata": {},
   "outputs": [],
   "source": [
    "def delete_all_files(directory):\n",
    "    # Check if the directory exists\n",
    "    if os.path.exists(directory) and os.path.isdir(directory):\n",
    "        # Loop through all files in the directory\n",
    "        for filename in os.listdir(directory):\n",
    "            file_path = os.path.join(directory, filename)\n",
    "            # Check if it's a file (not a subdirectory)\n",
    "            if os.path.isfile(file_path):\n",
    "                os.remove(file_path)  # Delete the file\n",
    "                print(f\"Deleted: {file_path}\")\n",
    "    else:\n",
    "        print(\"The specified directory does not exist.\")"
   ]
  },
  {
   "cell_type": "code",
   "execution_count": 4,
   "metadata": {},
   "outputs": [
    {
     "name": "stdout",
     "output_type": "stream",
     "text": [
      "Deleted: ./data\\483s.xlsx\n",
      "Deleted: ./data\\inspections_citations.xlsx\n",
      "Deleted: ./data\\inspections_classifications.xlsx\n",
      "Deleted: ./data\\recall_data.xlsx\n"
     ]
    }
   ],
   "source": [
    "delete_all_files(\"./data\")"
   ]
  },
  {
   "cell_type": "code",
   "execution_count": 4,
   "metadata": {},
   "outputs": [],
   "source": [
    "inspec_class_url = \"https://api-datadashboard.fda.gov/v1/inspections_classifications\" \n",
    "inspec_citation_url = \"https://api-datadashboard.fda.gov/v1/inspections_citations\""
   ]
  },
  {
   "cell_type": "code",
   "execution_count": 5,
   "metadata": {},
   "outputs": [
    {
     "name": "stdout",
     "output_type": "stream",
     "text": [
      "Fetched 5000 rows (Total so far: 5000), moving to next batch\n",
      "Fetched 5000 rows (Total so far: 10000), moving to next batch\n",
      "Fetched 5000 rows (Total so far: 15000), moving to next batch\n",
      "Fetched 5000 rows (Total so far: 20000), moving to next batch\n",
      "Fetched 5000 rows (Total so far: 25000), moving to next batch\n",
      "Fetched 5000 rows (Total so far: 30000), moving to next batch\n",
      "Fetched 5000 rows (Total so far: 35000), moving to next batch\n",
      "Fetched 5000 rows (Total so far: 40000), moving to next batch\n",
      "Fetched 5000 rows (Total so far: 45000), moving to next batch\n",
      "Fetched 5000 rows (Total so far: 50000), moving to next batch\n",
      "Fetched 5000 rows (Total so far: 55000), moving to next batch\n",
      "Fetched 5000 rows (Total so far: 60000), moving to next batch\n",
      "Fetched 5000 rows (Total so far: 65000), moving to next batch\n",
      "Fetched 5000 rows (Total so far: 70000), moving to next batch\n",
      "Fetched 5000 rows (Total so far: 75000), moving to next batch\n",
      "Fetched 5000 rows (Total so far: 80000), moving to next batch\n",
      "Fetched 5000 rows (Total so far: 85000), moving to next batch\n",
      "Fetched 5000 rows (Total so far: 90000), moving to next batch\n",
      "Fetched 5000 rows (Total so far: 95000), moving to next batch\n",
      "Fetched 5000 rows (Total so far: 100000), moving to next batch\n",
      "Fetched 5000 rows (Total so far: 105000), moving to next batch\n",
      "Fetched 5000 rows (Total so far: 110000), moving to next batch\n",
      "Fetched 5000 rows (Total so far: 115000), moving to next batch\n",
      "Fetched 5000 rows (Total so far: 120000), moving to next batch\n",
      "Fetched 5000 rows (Total so far: 125000), moving to next batch\n",
      "Fetched 5000 rows (Total so far: 130000), moving to next batch\n",
      "Fetched 5000 rows (Total so far: 135000), moving to next batch\n",
      "Fetched 5000 rows (Total so far: 140000), moving to next batch\n",
      "Fetched 5000 rows (Total so far: 145000), moving to next batch\n",
      "Fetched 5000 rows (Total so far: 150000), moving to next batch\n",
      "Fetched 5000 rows (Total so far: 155000), moving to next batch\n",
      "Fetched 5000 rows (Total so far: 160000), moving to next batch\n",
      "Fetched 5000 rows (Total so far: 165000), moving to next batch\n",
      "Fetched 5000 rows (Total so far: 170000), moving to next batch\n",
      "Fetched 5000 rows (Total so far: 175000), moving to next batch\n",
      "Fetched 5000 rows (Total so far: 180000), moving to next batch\n",
      "Fetched 5000 rows (Total so far: 185000), moving to next batch\n",
      "Fetched 5000 rows (Total so far: 190000), moving to next batch\n",
      "Fetched 5000 rows (Total so far: 195000), moving to next batch\n",
      "Fetched 5000 rows (Total so far: 200000), moving to next batch\n",
      "Fetched 5000 rows (Total so far: 205000), moving to next batch\n",
      "Fetched 5000 rows (Total so far: 210000), moving to next batch\n",
      "Fetched 5000 rows (Total so far: 215000), moving to next batch\n",
      "Fetched 5000 rows (Total so far: 220000), moving to next batch\n",
      "Fetched 5000 rows (Total so far: 225000), moving to next batch\n",
      "Fetched 5000 rows (Total so far: 230000), moving to next batch\n",
      "Fetched 5000 rows (Total so far: 235000), moving to next batch\n",
      "Fetched 5000 rows (Total so far: 240000), moving to next batch\n",
      "Fetched 5000 rows (Total so far: 245000), moving to next batch\n",
      "Fetched 5000 rows (Total so far: 250000), moving to next batch\n",
      "Fetched 5000 rows (Total so far: 255000), moving to next batch\n",
      "Fetched 5000 rows (Total so far: 260000), moving to next batch\n",
      "Fetched 5000 rows (Total so far: 265000), moving to next batch\n",
      "Fetched 5000 rows (Total so far: 270000), moving to next batch\n",
      "Fetched 5000 rows (Total so far: 275000), moving to next batch\n",
      "Fetched 5000 rows (Total so far: 280000), moving to next batch\n",
      "Fetched 5000 rows (Total so far: 285000), moving to next batch\n",
      "Fetched 5000 rows (Total so far: 290000), moving to next batch\n",
      "Fetched 5000 rows (Total so far: 295000), moving to next batch\n",
      "Fetched 5000 rows (Total so far: 300000), moving to next batch\n",
      "Fetched 5000 rows (Total so far: 305000), moving to next batch\n",
      "Fetched 3335 rows (Total so far: 308335), moving to next batch\n",
      "All available rows have been retrieved.\n",
      "Saving to Local ...\n",
      "inspections_classifications\n",
      "All data successfully saved to ./data/inspections_classifications.xlsx\n"
     ]
    }
   ],
   "source": [
    "ingestion_dashboard.request_inspection(inspec_class_url)"
   ]
  },
  {
   "cell_type": "code",
   "execution_count": 6,
   "metadata": {},
   "outputs": [
    {
     "name": "stdout",
     "output_type": "stream",
     "text": [
      "Fetched 5000 rows (Total so far: 5000), moving to next batch\n",
      "Fetched 5000 rows (Total so far: 10000), moving to next batch\n",
      "Fetched 5000 rows (Total so far: 15000), moving to next batch\n",
      "Fetched 5000 rows (Total so far: 20000), moving to next batch\n",
      "Fetched 5000 rows (Total so far: 25000), moving to next batch\n",
      "Fetched 5000 rows (Total so far: 30000), moving to next batch\n",
      "Fetched 5000 rows (Total so far: 35000), moving to next batch\n",
      "Fetched 5000 rows (Total so far: 40000), moving to next batch\n",
      "Fetched 5000 rows (Total so far: 45000), moving to next batch\n",
      "Fetched 5000 rows (Total so far: 50000), moving to next batch\n",
      "Fetched 5000 rows (Total so far: 55000), moving to next batch\n",
      "Fetched 5000 rows (Total so far: 60000), moving to next batch\n",
      "Fetched 5000 rows (Total so far: 65000), moving to next batch\n",
      "Fetched 5000 rows (Total so far: 70000), moving to next batch\n",
      "Fetched 5000 rows (Total so far: 75000), moving to next batch\n",
      "Fetched 5000 rows (Total so far: 80000), moving to next batch\n",
      "Fetched 5000 rows (Total so far: 85000), moving to next batch\n",
      "Fetched 5000 rows (Total so far: 90000), moving to next batch\n",
      "Fetched 5000 rows (Total so far: 95000), moving to next batch\n",
      "Fetched 5000 rows (Total so far: 100000), moving to next batch\n",
      "Fetched 5000 rows (Total so far: 105000), moving to next batch\n",
      "Fetched 5000 rows (Total so far: 110000), moving to next batch\n",
      "Fetched 5000 rows (Total so far: 115000), moving to next batch\n",
      "Fetched 5000 rows (Total so far: 120000), moving to next batch\n",
      "Fetched 5000 rows (Total so far: 125000), moving to next batch\n",
      "Fetched 5000 rows (Total so far: 130000), moving to next batch\n",
      "Fetched 5000 rows (Total so far: 135000), moving to next batch\n",
      "Fetched 5000 rows (Total so far: 140000), moving to next batch\n",
      "Fetched 5000 rows (Total so far: 145000), moving to next batch\n",
      "Fetched 5000 rows (Total so far: 150000), moving to next batch\n",
      "Fetched 5000 rows (Total so far: 155000), moving to next batch\n",
      "Fetched 5000 rows (Total so far: 160000), moving to next batch\n",
      "Fetched 5000 rows (Total so far: 165000), moving to next batch\n",
      "Fetched 5000 rows (Total so far: 170000), moving to next batch\n",
      "Fetched 5000 rows (Total so far: 175000), moving to next batch\n",
      "Fetched 5000 rows (Total so far: 180000), moving to next batch\n",
      "Fetched 5000 rows (Total so far: 185000), moving to next batch\n",
      "Fetched 5000 rows (Total so far: 190000), moving to next batch\n",
      "Fetched 5000 rows (Total so far: 195000), moving to next batch\n",
      "Fetched 5000 rows (Total so far: 200000), moving to next batch\n",
      "Fetched 5000 rows (Total so far: 205000), moving to next batch\n",
      "Fetched 5000 rows (Total so far: 210000), moving to next batch\n",
      "Fetched 5000 rows (Total so far: 215000), moving to next batch\n",
      "Fetched 5000 rows (Total so far: 220000), moving to next batch\n",
      "Fetched 5000 rows (Total so far: 225000), moving to next batch\n",
      "Fetched 5000 rows (Total so far: 230000), moving to next batch\n",
      "Fetched 5000 rows (Total so far: 235000), moving to next batch\n",
      "Fetched 5000 rows (Total so far: 240000), moving to next batch\n",
      "Fetched 5000 rows (Total so far: 245000), moving to next batch\n",
      "Fetched 5000 rows (Total so far: 250000), moving to next batch\n",
      "Fetched 5000 rows (Total so far: 255000), moving to next batch\n",
      "Fetched 2636 rows (Total so far: 257636), moving to next batch\n",
      "All available rows have been retrieved.\n",
      "Saving to Local ...\n",
      "inspections_citations\n",
      "All data successfully saved to ./data/inspections_citations.xlsx\n"
     ]
    }
   ],
   "source": [
    "ingestion_dashboard.request_inspection(inspec_citation_url)"
   ]
  },
  {
   "cell_type": "code",
   "execution_count": 7,
   "metadata": {},
   "outputs": [
    {
     "name": "stdout",
     "output_type": "stream",
     "text": [
      "Fetched 5000 rows (Total so far: 5000), moving to next batch...\n",
      "Fetched 5000 rows (Total so far: 10000), moving to next batch...\n",
      "Fetched 5000 rows (Total so far: 15000), moving to next batch...\n",
      "Fetched 5000 rows (Total so far: 20000), moving to next batch...\n",
      "Fetched 5000 rows (Total so far: 25000), moving to next batch...\n",
      "Fetched 5000 rows (Total so far: 30000), moving to next batch...\n",
      "Fetched 5000 rows (Total so far: 35000), moving to next batch...\n",
      "Fetched 5000 rows (Total so far: 40000), moving to next batch...\n",
      "Fetched 5000 rows (Total so far: 45000), moving to next batch...\n",
      "Fetched 5000 rows (Total so far: 50000), moving to next batch...\n",
      "Fetched 5000 rows (Total so far: 55000), moving to next batch...\n",
      "Fetched 5000 rows (Total so far: 60000), moving to next batch...\n",
      "Fetched 5000 rows (Total so far: 65000), moving to next batch...\n",
      "Fetched 5000 rows (Total so far: 70000), moving to next batch...\n",
      "Fetched 5000 rows (Total so far: 75000), moving to next batch...\n",
      "Fetched 5000 rows (Total so far: 80000), moving to next batch...\n",
      "Fetched 5000 rows (Total so far: 85000), moving to next batch...\n",
      "Fetched 5000 rows (Total so far: 90000), moving to next batch...\n",
      "Fetched 5000 rows (Total so far: 95000), moving to next batch...\n",
      "Fetched 5000 rows (Total so far: 100000), moving to next batch...\n",
      "Fetched 5000 rows (Total so far: 105000), moving to next batch...\n",
      "Fetched 5000 rows (Total so far: 110000), moving to next batch...\n",
      "Fetched 5000 rows (Total so far: 115000), moving to next batch...\n",
      "Fetched 5000 rows (Total so far: 120000), moving to next batch...\n",
      "Fetched 5000 rows (Total so far: 125000), moving to next batch...\n",
      "Fetched 2507 rows (Total so far: 127507), moving to next batch...\n",
      "No more data to fetch.\n",
      "Data successfully saved to ./data/recall_data.xlsx, total records: 127507\n"
     ]
    }
   ],
   "source": [
    "ingestion_enforce_reports.request_recall()"
   ]
  },
  {
   "cell_type": "code",
   "execution_count": 8,
   "metadata": {},
   "outputs": [
    {
     "name": "stdout",
     "output_type": "stream",
     "text": [
      "Export button clicked. Waiting for download...\n",
      "Download complete! Renamed to: 483s.xlsx\n",
      "File saved as: c:\\Users\\13282\\Desktop\\Ingestion\\data\\483s.xlsx\n"
     ]
    }
   ],
   "source": [
    "ingestion_483s.download_483s()"
   ]
  }
 ],
 "metadata": {
  "kernelspec": {
   "display_name": "Python 3",
   "language": "python",
   "name": "python3"
  },
  "language_info": {
   "codemirror_mode": {
    "name": "ipython",
    "version": 3
   },
   "file_extension": ".py",
   "mimetype": "text/x-python",
   "name": "python",
   "nbconvert_exporter": "python",
   "pygments_lexer": "ipython3",
   "version": "3.11.9"
  }
 },
 "nbformat": 4,
 "nbformat_minor": 2
}
