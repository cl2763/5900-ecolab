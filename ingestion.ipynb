{
 "cells": [
  {
   "cell_type": "code",
   "execution_count": 4,
   "metadata": {},
   "outputs": [],
   "source": [
    "import ingestion_dashboard\n",
    "import ingestion_enforce_reports\n",
    "import ingestion_483s\n",
    "import ingestion_compliance\n",
    "import os"
   ]
  },
  {
   "cell_type": "code",
   "execution_count": 5,
   "metadata": {},
   "outputs": [],
   "source": [
    "def delete_all_files(directory):\n",
    "    # Check if the directory exists\n",
    "    if os.path.exists(directory) and os.path.isdir(directory):\n",
    "        # Loop through all files in the directory\n",
    "        for filename in os.listdir(directory):\n",
    "            file_path = os.path.join(directory, filename)\n",
    "            # Check if it's a file (not a subdirectory)\n",
    "            if os.path.isfile(file_path):\n",
    "                os.remove(file_path)  # Delete the file\n",
    "                print(f\"Deleted: {file_path}\")\n",
    "    else:\n",
    "        print(\"The specified directory does not exist.\")"
   ]
  },
  {
   "cell_type": "code",
   "execution_count": 9,
   "metadata": {},
   "outputs": [
    {
     "name": "stdout",
     "output_type": "stream",
     "text": [
      "Deleted: ./data\\compliance_actions.xlsx\n"
     ]
    }
   ],
   "source": [
    "delete_all_files(\"./data\")"
   ]
  },
  {
   "cell_type": "code",
   "execution_count": 7,
   "metadata": {},
   "outputs": [],
   "source": [
    "inspec_class_url = \"https://api-datadashboard.fda.gov/v1/inspections_classifications\" \n",
    "inspec_citation_url = \"https://api-datadashboard.fda.gov/v1/inspections_citations\"\n",
    "compliance_url = \"https://api-datadashboard.fda.gov/v1/compliance_actions\"\n",
    "os.environ['USER'] = 'yy2349@cornell.edu'\n",
    "os.environ['ENFORCE_REPORT_KEY'] = '51SGPrb5q9rUuTiX'\n",
    "os.environ['FDA_DASHBOARD_KEY'] = 'qlKl4mX4FVD2D4mz'"
   ]
  },
  {
   "cell_type": "code",
   "execution_count": 10,
   "metadata": {},
   "outputs": [
    {
     "name": "stdout",
     "output_type": "stream",
     "text": [
      "Fetched 5000 rows (Total so far: 5000), moving to next batch\n",
      "Fetched 5000 rows (Total so far: 10000), moving to next batch\n",
      "Fetched 5000 rows (Total so far: 15000), moving to next batch\n",
      "Fetched 5000 rows (Total so far: 20000), moving to next batch\n",
      "Fetched 5000 rows (Total so far: 25000), moving to next batch\n",
      "Fetched 5000 rows (Total so far: 30000), moving to next batch\n",
      "Fetched 5000 rows (Total so far: 35000), moving to next batch\n",
      "Fetched 5000 rows (Total so far: 40000), moving to next batch\n",
      "Fetched 5000 rows (Total so far: 45000), moving to next batch\n",
      "Fetched 5000 rows (Total so far: 50000), moving to next batch\n",
      "Fetched 5000 rows (Total so far: 55000), moving to next batch\n",
      "Fetched 5000 rows (Total so far: 60000), moving to next batch\n",
      "Fetched 5000 rows (Total so far: 65000), moving to next batch\n",
      "Fetched 5000 rows (Total so far: 70000), moving to next batch\n",
      "Fetched 5000 rows (Total so far: 75000), moving to next batch\n",
      "Fetched 5000 rows (Total so far: 80000), moving to next batch\n",
      "Fetched 5000 rows (Total so far: 85000), moving to next batch\n",
      "Fetched 5000 rows (Total so far: 90000), moving to next batch\n",
      "Fetched 5000 rows (Total so far: 95000), moving to next batch\n",
      "Fetched 5000 rows (Total so far: 100000), moving to next batch\n",
      "Fetched 5000 rows (Total so far: 105000), moving to next batch\n",
      "Fetched 5000 rows (Total so far: 110000), moving to next batch\n",
      "Fetched 5000 rows (Total so far: 115000), moving to next batch\n",
      "Fetched 5000 rows (Total so far: 120000), moving to next batch\n",
      "Fetched 5000 rows (Total so far: 125000), moving to next batch\n",
      "Fetched 5000 rows (Total so far: 130000), moving to next batch\n",
      "Fetched 5000 rows (Total so far: 135000), moving to next batch\n",
      "Fetched 5000 rows (Total so far: 140000), moving to next batch\n",
      "Fetched 5000 rows (Total so far: 145000), moving to next batch\n",
      "Fetched 5000 rows (Total so far: 150000), moving to next batch\n",
      "Fetched 5000 rows (Total so far: 155000), moving to next batch\n",
      "Fetched 4215 rows (Total so far: 159215), moving to next batch\n",
      "All available rows have been retrieved.\n",
      "Saving to Local ...\n",
      "compliance_actions\n",
      "All data successfully saved to ./data/compliance_actions.xlsx\n"
     ]
    }
   ],
   "source": [
    "ingestion_compliance.request_compliance(compliance_url)"
   ]
  },
  {
   "cell_type": "code",
   "execution_count": 11,
   "metadata": {},
   "outputs": [
    {
     "name": "stdout",
     "output_type": "stream",
     "text": [
      "Fetched 5000 rows (Total so far: 5000), moving to next batch\n",
      "Fetched 5000 rows (Total so far: 10000), moving to next batch\n",
      "Fetched 5000 rows (Total so far: 15000), moving to next batch\n",
      "Fetched 5000 rows (Total so far: 20000), moving to next batch\n",
      "Fetched 5000 rows (Total so far: 25000), moving to next batch\n",
      "Fetched 5000 rows (Total so far: 30000), moving to next batch\n",
      "Fetched 5000 rows (Total so far: 35000), moving to next batch\n",
      "Fetched 5000 rows (Total so far: 40000), moving to next batch\n",
      "Fetched 5000 rows (Total so far: 45000), moving to next batch\n",
      "Fetched 5000 rows (Total so far: 50000), moving to next batch\n",
      "Fetched 5000 rows (Total so far: 55000), moving to next batch\n",
      "Fetched 5000 rows (Total so far: 60000), moving to next batch\n",
      "Fetched 5000 rows (Total so far: 65000), moving to next batch\n",
      "Fetched 5000 rows (Total so far: 70000), moving to next batch\n",
      "Fetched 5000 rows (Total so far: 75000), moving to next batch\n",
      "Fetched 5000 rows (Total so far: 80000), moving to next batch\n",
      "Fetched 5000 rows (Total so far: 85000), moving to next batch\n",
      "Fetched 5000 rows (Total so far: 90000), moving to next batch\n",
      "Fetched 5000 rows (Total so far: 95000), moving to next batch\n",
      "Fetched 5000 rows (Total so far: 100000), moving to next batch\n",
      "Fetched 5000 rows (Total so far: 105000), moving to next batch\n",
      "Fetched 5000 rows (Total so far: 110000), moving to next batch\n",
      "Fetched 5000 rows (Total so far: 115000), moving to next batch\n",
      "Fetched 5000 rows (Total so far: 120000), moving to next batch\n",
      "Fetched 5000 rows (Total so far: 125000), moving to next batch\n",
      "Fetched 5000 rows (Total so far: 130000), moving to next batch\n",
      "Fetched 5000 rows (Total so far: 135000), moving to next batch\n",
      "Fetched 5000 rows (Total so far: 140000), moving to next batch\n",
      "Fetched 5000 rows (Total so far: 145000), moving to next batch\n",
      "Fetched 5000 rows (Total so far: 150000), moving to next batch\n",
      "Fetched 5000 rows (Total so far: 155000), moving to next batch\n",
      "Fetched 5000 rows (Total so far: 160000), moving to next batch\n",
      "Fetched 5000 rows (Total so far: 165000), moving to next batch\n",
      "Fetched 5000 rows (Total so far: 170000), moving to next batch\n",
      "Fetched 5000 rows (Total so far: 175000), moving to next batch\n",
      "Fetched 5000 rows (Total so far: 180000), moving to next batch\n",
      "Fetched 5000 rows (Total so far: 185000), moving to next batch\n",
      "Fetched 5000 rows (Total so far: 190000), moving to next batch\n",
      "Fetched 5000 rows (Total so far: 195000), moving to next batch\n",
      "Fetched 5000 rows (Total so far: 200000), moving to next batch\n",
      "Fetched 5000 rows (Total so far: 205000), moving to next batch\n",
      "Fetched 5000 rows (Total so far: 210000), moving to next batch\n",
      "Fetched 5000 rows (Total so far: 215000), moving to next batch\n",
      "Fetched 5000 rows (Total so far: 220000), moving to next batch\n",
      "Fetched 5000 rows (Total so far: 225000), moving to next batch\n",
      "Fetched 5000 rows (Total so far: 230000), moving to next batch\n",
      "Fetched 5000 rows (Total so far: 235000), moving to next batch\n",
      "Fetched 5000 rows (Total so far: 240000), moving to next batch\n",
      "Fetched 5000 rows (Total so far: 245000), moving to next batch\n",
      "Fetched 5000 rows (Total so far: 250000), moving to next batch\n",
      "Fetched 5000 rows (Total so far: 255000), moving to next batch\n",
      "Fetched 5000 rows (Total so far: 260000), moving to next batch\n",
      "Fetched 5000 rows (Total so far: 265000), moving to next batch\n",
      "Fetched 5000 rows (Total so far: 270000), moving to next batch\n",
      "Fetched 5000 rows (Total so far: 275000), moving to next batch\n",
      "Fetched 5000 rows (Total so far: 280000), moving to next batch\n",
      "Fetched 5000 rows (Total so far: 285000), moving to next batch\n",
      "Fetched 5000 rows (Total so far: 290000), moving to next batch\n",
      "Fetched 5000 rows (Total so far: 295000), moving to next batch\n",
      "Fetched 5000 rows (Total so far: 300000), moving to next batch\n",
      "Fetched 5000 rows (Total so far: 305000), moving to next batch\n",
      "Fetched 3763 rows (Total so far: 308763), moving to next batch\n",
      "All available rows have been retrieved.\n",
      "Saving to Local ...\n",
      "inspections_classifications\n",
      "All data successfully saved to ./data/inspections_classifications.xlsx\n"
     ]
    }
   ],
   "source": [
    "ingestion_dashboard.request_inspection(inspec_class_url)"
   ]
  },
  {
   "cell_type": "code",
   "execution_count": 7,
   "metadata": {},
   "outputs": [
    {
     "name": "stdout",
     "output_type": "stream",
     "text": [
      "HTTP Request Error 401: {\"statuscode\":401,\"message\":\"Not Authorized.\"}\n",
      "Processing data...\n",
      "Saved 0 rows to ./data/inspections_citations_part_1.xlsx\n",
      "✅ Data processing completed. Files saved: ['./data/inspections_citations_part_1.xlsx']\n"
     ]
    }
   ],
   "source": [
    "ingestion_dashboard.request_inspection(inspec_citation_url)"
   ]
  },
  {
   "cell_type": "code",
   "execution_count": 8,
   "metadata": {},
   "outputs": [
    {
     "name": "stdout",
     "output_type": "stream",
     "text": [
      "Error: 'RESULT' key not found in response.\n",
      "Data successfully saved to ./data/recall_data.xlsx, total records: 0\n"
     ]
    }
   ],
   "source": [
    "ingestion_enforce_reports.request_recall()"
   ]
  },
  {
   "cell_type": "code",
   "execution_count": 9,
   "metadata": {},
   "outputs": [
    {
     "name": "stdout",
     "output_type": "stream",
     "text": [
      "Export button clicked. Waiting for download...\n"
     ]
    },
    {
     "ename": "KeyboardInterrupt",
     "evalue": "",
     "output_type": "error",
     "traceback": [
      "\u001b[1;31m---------------------------------------------------------------------------\u001b[0m",
      "\u001b[1;31mKeyboardInterrupt\u001b[0m                         Traceback (most recent call last)",
      "Cell \u001b[1;32mIn[9], line 1\u001b[0m\n\u001b[1;32m----> 1\u001b[0m \u001b[43mingestion_483s\u001b[49m\u001b[38;5;241;43m.\u001b[39;49m\u001b[43mdownload_483s\u001b[49m\u001b[43m(\u001b[49m\u001b[43m)\u001b[49m\n",
      "File \u001b[1;32mc:\\Users\\13282\\Desktop\\Ingestion\\ingestion_483s.py:75\u001b[0m, in \u001b[0;36mdownload_483s\u001b[1;34m()\u001b[0m\n\u001b[0;32m     72\u001b[0m     \u001b[38;5;28;01mreturn\u001b[39;00m \u001b[38;5;28;01mFalse\u001b[39;00m\n\u001b[0;32m     74\u001b[0m \u001b[38;5;66;03m# ✅ Call the function to wait for and rename the file\u001b[39;00m\n\u001b[1;32m---> 75\u001b[0m \u001b[43mwait_for_download\u001b[49m\u001b[43m(\u001b[49m\u001b[43mcustom_download_dir\u001b[49m\u001b[43m)\u001b[49m\n\u001b[0;32m     77\u001b[0m \u001b[38;5;66;03m# ✅ Keep the browser open until the file is fully downloaded\u001b[39;00m\n\u001b[0;32m     78\u001b[0m \u001b[38;5;28;01mwhile\u001b[39;00m \u001b[38;5;129;01mnot\u001b[39;00m os\u001b[38;5;241m.\u001b[39mpath\u001b[38;5;241m.\u001b[39mexists(final_filepath):\n",
      "File \u001b[1;32mc:\\Users\\13282\\Desktop\\Ingestion\\ingestion_483s.py:70\u001b[0m, in \u001b[0;36mdownload_483s.<locals>.wait_for_download\u001b[1;34m(directory, timeout)\u001b[0m\n\u001b[0;32m     68\u001b[0m             \u001b[38;5;28mprint\u001b[39m(\u001b[38;5;124mf\u001b[39m\u001b[38;5;124m\"\u001b[39m\u001b[38;5;124mDownload complete! Renamed to: \u001b[39m\u001b[38;5;132;01m{\u001b[39;00mfinal_filename\u001b[38;5;132;01m}\u001b[39;00m\u001b[38;5;124m\"\u001b[39m)\n\u001b[0;32m     69\u001b[0m             \u001b[38;5;28;01mreturn\u001b[39;00m \u001b[38;5;28;01mTrue\u001b[39;00m\n\u001b[1;32m---> 70\u001b[0m     \u001b[43mtime\u001b[49m\u001b[38;5;241;43m.\u001b[39;49m\u001b[43msleep\u001b[49m\u001b[43m(\u001b[49m\u001b[38;5;241;43m5\u001b[39;49m\u001b[43m)\u001b[49m\n\u001b[0;32m     71\u001b[0m \u001b[38;5;28mprint\u001b[39m(\u001b[38;5;124m\"\u001b[39m\u001b[38;5;124mDownload timed out.\u001b[39m\u001b[38;5;124m\"\u001b[39m)\n\u001b[0;32m     72\u001b[0m \u001b[38;5;28;01mreturn\u001b[39;00m \u001b[38;5;28;01mFalse\u001b[39;00m\n",
      "\u001b[1;31mKeyboardInterrupt\u001b[0m: "
     ]
    }
   ],
   "source": [
    "ingestion_483s.download_483s()"
   ]
  }
 ],
 "metadata": {
  "kernelspec": {
   "display_name": "Python 3",
   "language": "python",
   "name": "python3"
  },
  "language_info": {
   "codemirror_mode": {
    "name": "ipython",
    "version": 3
   },
   "file_extension": ".py",
   "mimetype": "text/x-python",
   "name": "python",
   "nbconvert_exporter": "python",
   "pygments_lexer": "ipython3",
   "version": "3.11.9"
  }
 },
 "nbformat": 4,
 "nbformat_minor": 2
}
