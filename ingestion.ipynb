{
 "cells": [
  {
   "cell_type": "code",
   "execution_count": null,
   "metadata": {},
   "outputs": [],
   "source": [
    "import ingestion_dashboard\n",
    "import ingestion_enforce_reports\n",
    "import ingestion_483s\n",
    "import ingestion_compliance\n",
    "import os"
   ]
  },
  {
   "cell_type": "code",
   "execution_count": null,
   "metadata": {},
   "outputs": [],
   "source": [
    "def delete_all_files(directory):\n",
    "    # Check if the directory exists\n",
    "    if os.path.exists(directory) and os.path.isdir(directory):\n",
    "        # Loop through all files in the directory\n",
    "        for filename in os.listdir(directory):\n",
    "            file_path = os.path.join(directory, filename)\n",
    "            # Check if it's a file (not a subdirectory)\n",
    "            if os.path.isfile(file_path):\n",
    "                os.remove(file_path)  # Delete the file\n",
    "                print(f\"Deleted: {file_path}\")\n",
    "    else:\n",
    "        print(\"The specified directory does not exist.\")"
   ]
  },
  {
   "cell_type": "code",
   "execution_count": null,
   "metadata": {},
   "outputs": [],
   "source": [
    "delete_all_files(\"./data\")"
   ]
  },
  {
   "cell_type": "code",
   "execution_count": null,
   "metadata": {},
   "outputs": [],
   "source": [
    "inspec_class_url = \"https://api-datadashboard.fda.gov/v1/inspections_classifications\" \n",
    "inspec_citation_url = \"https://api-datadashboard.fda.gov/v1/inspections_citations\"\n",
    "compliance_url = \"https://api-datadashboard.fda.gov/v1/compliance_actions\"\n",
    "os.environ['USER'] = 'yy2349@cornell.edu'\n",
    "os.environ['ENFORCE_REPORT_KEY'] = '51SGPrb5q9rUuTiX'\n",
    "os.environ['FDA_DASHBOARD_KEY'] = 'qlKl4mX4FVD2D4mz'"
   ]
  },
  {
   "cell_type": "code",
   "execution_count": null,
   "metadata": {},
   "outputs": [],
   "source": [
    "ingestion_compliance.request_compliance(compliance_url)"
   ]
  },
  {
   "cell_type": "code",
   "execution_count": null,
   "metadata": {},
   "outputs": [],
   "source": [
    "ingestion_dashboard.request_inspection(inspec_class_url)"
   ]
  },
  {
   "cell_type": "code",
   "execution_count": null,
   "metadata": {},
   "outputs": [],
   "source": [
    "ingestion_dashboard.request_inspection(inspec_citation_url)"
   ]
  },
  {
   "cell_type": "code",
   "execution_count": null,
   "metadata": {},
   "outputs": [],
   "source": [
    "ingestion_enforce_reports.request_recall()"
   ]
  },
  {
   "cell_type": "code",
   "execution_count": null,
   "metadata": {},
   "outputs": [],
   "source": [
    "ingestion_483s.download_483s()"
   ]
  }
 ],
 "metadata": {
  "kernelspec": {
   "display_name": "Python 3",
   "language": "python",
   "name": "python3"
  },
  "language_info": {
   "codemirror_mode": {
    "name": "ipython",
    "version": 3
   },
   "file_extension": ".py",
   "mimetype": "text/x-python",
   "name": "python",
   "nbconvert_exporter": "python",
   "pygments_lexer": "ipython3",
   "version": "3.12.6"
  }
 },
 "nbformat": 4,
 "nbformat_minor": 2
}
